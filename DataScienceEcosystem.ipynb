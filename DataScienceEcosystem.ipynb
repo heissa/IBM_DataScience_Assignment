{
 "cells": [
  {
   "cell_type": "markdown",
   "id": "67f46d94-83fd-49d3-a5e9-8f6fb095dec3",
   "metadata": {},
   "source": [
    "# Data Science Tools and Ecosystem"
   ]
  },
  {
   "cell_type": "markdown",
   "id": "33ef31ee-9ca8-464a-ac11-e66255cedf0e",
   "metadata": {},
   "source": [
    "In this notebook, Data Science Tools and Ecosystem are summarized.\n"
   ]
  },
  {
   "cell_type": "markdown",
   "id": "c5b9dc92-94dd-4974-87a8-33d0098438e6",
   "metadata": {},
   "source": [
    "__Objectives__\n",
    "1. List Data Science Environemt tools\n",
    "2. List Data Science Libraries\n",
    "3. Create a table showing Data Scienece languages"
   ]
  },
  {
   "cell_type": "markdown",
   "id": "91329627-13c0-4051-b80b-48253642ef2c",
   "metadata": {},
   "source": [
    "Some of the popular languages that Data Scientists use are:\n",
    "1. Python\n",
    "2. SQL\n",
    "3. R"
   ]
  },
  {
   "cell_type": "markdown",
   "id": "6cc9a40e-0f38-4d1e-ac25-301facf7b114",
   "metadata": {},
   "source": [
    "Some of the commonly used libraries used by Data Scientists include:\n",
    "1. NumPy\n",
    "2. Matpltlib\n",
    "3. SciPy\n",
    "4. TensorFlow"
   ]
  },
  {
   "cell_type": "markdown",
   "id": "c09f2483-80c1-4d1a-825e-ba4aaf223d26",
   "metadata": {},
   "source": [
    "| Data Science Tools |\n",
    "|--------------------|\n",
    "| JupiterLite   |\n",
    "| Rstudio            |\n",
    "| Spark   |"
   ]
  },
  {
   "cell_type": "markdown",
   "id": "5d156bcf-f683-4537-85fc-b4e1932bb1fe",
   "metadata": {},
   "source": [
    "### Below are a few examples of evaluating arithmetic expressions in Python"
   ]
  },
  {
   "cell_type": "code",
   "execution_count": 2,
   "id": "caaae81e-bcf7-4ea4-8ed2-4c130d74a95f",
   "metadata": {},
   "outputs": [
    {
     "data": {
      "text/plain": [
       "17"
      ]
     },
     "execution_count": 2,
     "metadata": {},
     "output_type": "execute_result"
    }
   ],
   "source": [
    "(3*4) + 5"
   ]
  },
  {
   "cell_type": "code",
   "execution_count": 3,
   "id": "626ba853-4353-4b15-a9e8-d41a5dc0d758",
   "metadata": {},
   "outputs": [
    {
     "name": "stdout",
     "output_type": "stream",
     "text": [
      "Number of hours= 3.3333333333333335\n"
     ]
    }
   ],
   "source": [
    "# This will convert 200 minutes to hours by diving by 60\n",
    "mins = 200\n",
    "mins_per_hours = 60\n",
    "Num_hours = mins/mins_per_hours\n",
    "print(\"Number of hours=\", Num_hours)\n"
   ]
  },
  {
   "cell_type": "markdown",
   "id": "bab30493-aac2-4777-8788-6d9cf732db05",
   "metadata": {},
   "source": [
    "## Author\n",
    "Haitham Eissa"
   ]
  },
  {
   "cell_type": "code",
   "execution_count": null,
   "id": "dec3eb53-65a0-4ced-9faf-7e8d75373afa",
   "metadata": {},
   "outputs": [],
   "source": []
  }
 ],
 "metadata": {
  "kernelspec": {
   "display_name": "Python 3 (ipykernel)",
   "language": "python",
   "name": "python3"
  },
  "language_info": {
   "codemirror_mode": {
    "name": "ipython",
    "version": 3
   },
   "file_extension": ".py",
   "mimetype": "text/x-python",
   "name": "python",
   "nbconvert_exporter": "python",
   "pygments_lexer": "ipython3",
   "version": "3.13.7"
  }
 },
 "nbformat": 4,
 "nbformat_minor": 5
}
